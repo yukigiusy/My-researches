{
  "nbformat": 4,
  "nbformat_minor": 0,
  "metadata": {
    "colab": {
      "provenance": []
    },
    "kernelspec": {
      "name": "python3",
      "display_name": "Python 3"
    },
    "language_info": {
      "name": "python"
    }
  },
  "cells": [
    {
      "cell_type": "markdown",
      "source": [
        "# VIX index\n",
        "In this document we are going to calculate the VIX, that is a specific index calculated by the CBOE and it is defined as the market's expectation of the implied volatility calculated on the sp500 out-of-money options with a 30-days forward looking.\n",
        "The calculation are done by following the CBOE procedure with the two listed methods\n",
        "\n",
        "It gives a panoramic of the implied volatility for the enxt period.\n",
        "It is expressed in annualized percentages and if it is:\n",
        "- $<15 \\%$ the VIX is low;\n",
        "- $15-25$ the VIX is normal;\n",
        "- $ > 25 \\%$ the VIX is high."
      ],
      "metadata": {
        "id": "JLFS-WiFR7vs"
      }
    },
    {
      "cell_type": "code",
      "execution_count": 66,
      "metadata": {
        "id": "8nAs2bVBN8e-"
      },
      "outputs": [],
      "source": [
        "import pandas as pd\n",
        "import numpy as np\n",
        "import matplotlib.pyplot as plt\n",
        "import seaborn as sns\n",
        "import yfinance as yf\n",
        "from datetime import datetime\n"
      ]
    },
    {
      "cell_type": "markdown",
      "source": [
        "## General EDA\n",
        "\n",
        "First I need the options calls and puts.\n",
        "The estimation is done on the sp500 options like the CBOE as defined.\n",
        "This is because it is the benchmark index of the large-cap USA companies and it is the better one to express the market sentiment."
      ],
      "metadata": {
        "id": "BaamFL20T8Np"
      }
    },
    {
      "cell_type": "code",
      "source": [
        "sp500= yf.Ticker(\"SPY\")\n",
        "expiration= sp500.options\n",
        "chosen_date_t1= expiration[11]\n",
        "chosen_date_t2= expiration[15]\n",
        "expiration"
      ],
      "metadata": {
        "colab": {
          "base_uri": "https://localhost:8080/"
        },
        "id": "wSPYKyLI4QdS",
        "outputId": "22723cc2-dc7f-4e7d-ac63-6df9fc3d7d33"
      },
      "execution_count": 67,
      "outputs": [
        {
          "output_type": "execute_result",
          "data": {
            "text/plain": [
              "('2025-02-04',\n",
              " '2025-02-05',\n",
              " '2025-02-06',\n",
              " '2025-02-07',\n",
              " '2025-02-10',\n",
              " '2025-02-11',\n",
              " '2025-02-12',\n",
              " '2025-02-13',\n",
              " '2025-02-14',\n",
              " '2025-02-21',\n",
              " '2025-02-28',\n",
              " '2025-03-07',\n",
              " '2025-03-14',\n",
              " '2025-03-21',\n",
              " '2025-03-31',\n",
              " '2025-04-17',\n",
              " '2025-04-30',\n",
              " '2025-05-16',\n",
              " '2025-05-30',\n",
              " '2025-06-20',\n",
              " '2025-06-30',\n",
              " '2025-07-18',\n",
              " '2025-07-31',\n",
              " '2025-08-15',\n",
              " '2025-09-19',\n",
              " '2025-09-30',\n",
              " '2025-12-19',\n",
              " '2025-12-31',\n",
              " '2026-01-16',\n",
              " '2026-03-20',\n",
              " '2026-06-18',\n",
              " '2026-12-18',\n",
              " '2027-01-15',\n",
              " '2027-12-17')"
            ]
          },
          "metadata": {},
          "execution_count": 67
        }
      ]
    },
    {
      "cell_type": "code",
      "source": [
        "def get_options(chosen_date, data, condition):\n",
        "  options= data.option_chain(chosen_date)\n",
        "  if condition== \"calls\":\n",
        "    calls_op= options.calls.dropna()\n",
        "    return calls_op\n",
        "  else:\n",
        "    puts_op=options.puts.dropna()\n",
        "    return puts_op\n",
        "\n",
        "\n",
        "calls_op_t1= get_options(chosen_date_t1, sp500, \"calls\")\n",
        "puts_op_t1= get_options(chosen_date_t1, sp500, \"puts\")\n",
        "calls_op_t2 = get_options(chosen_date_t2, sp500, \"calls\")\n",
        "puts_op_t2= get_options(chosen_date_t2, sp500, \"puts\")"
      ],
      "metadata": {
        "id": "6cGM-6ZB3CUr"
      },
      "execution_count": 68,
      "outputs": []
    },
    {
      "cell_type": "code",
      "source": [
        "chosen_date_t1, chosen_date_t2"
      ],
      "metadata": {
        "colab": {
          "base_uri": "https://localhost:8080/"
        },
        "id": "ki_eKdubfnDh",
        "outputId": "9911d7f3-4f46-46e6-8d59-740e4edabeef"
      },
      "execution_count": 69,
      "outputs": [
        {
          "output_type": "execute_result",
          "data": {
            "text/plain": [
              "('2025-03-07', '2025-04-17')"
            ]
          },
          "metadata": {},
          "execution_count": 69
        }
      ]
    },
    {
      "cell_type": "code",
      "source": [
        "spot_price = sp500.history(period=\"1d\")[\"Close\"].iloc[-1]"
      ],
      "metadata": {
        "id": "vFmQIHfXyd0u"
      },
      "execution_count": 70,
      "outputs": []
    },
    {
      "cell_type": "markdown",
      "source": [
        "Then, I need to calculate the mid price that is the $\\frac{bid+ask}{2}$.\n",
        "The mid price is one of the element of the formula to estimate the VIX.\n",
        "I have defined this function ```mid_price()``` to do this job for the two different maturities.\n",
        "\n"
      ],
      "metadata": {
        "id": "mvBnfe4dN1xG"
      }
    },
    {
      "cell_type": "code",
      "source": [
        "def mid_price(data):\n",
        "  data[\"mid_price\"]= (data[\"bid\"]+ data[\"ask\"]) / 2\n",
        "  return data[\"mid_price\"]\n",
        "calls_op_t1[\"mid_price\"]= mid_price(calls_op_t1)\n",
        "puts_op_t1[\"mid_price\"]= mid_price(puts_op_t1)\n",
        "calls_op_t2[\"mid_price\"]= mid_price(calls_op_t2)\n",
        "puts_op_t2[\"mid_price\"]= mid_price(puts_op_t2)"
      ],
      "metadata": {
        "id": "Sb7uQOSG257K"
      },
      "execution_count": 71,
      "outputs": []
    },
    {
      "cell_type": "markdown",
      "source": [
        "In addition, I have to select the out-of-money options by appling the filter method.\n",
        "\n",
        "So, thanks to the function ```otm_calculation()``` I'm going to choose the put options for which the $K < S_t$ and teh call for which the $K > S_t$.\n",
        "\n",
        "It is another important element for the formula of the VIX."
      ],
      "metadata": {
        "id": "aPsnH5dPOgJh"
      }
    },
    {
      "cell_type": "code",
      "source": [
        "def otm_calculation(data, condition):\n",
        "  if condition== \"calls\":\n",
        "    data_otm= data[data['strike'] > spot_price]\n",
        "    return data_otm\n",
        "  else:\n",
        "    data_otm= data[data['strike'] < spot_price]\n",
        "    return data_otm\n",
        "calls_otm_t1= otm_calculation(calls_op_t1, \"calls\")\n",
        "puts_otm_t1= otm_calculation(puts_op_t1, \"puts\")\n",
        "calls_otm_t2= otm_calculation(calls_op_t2, \"calls\")\n",
        "puts_otm_t2= otm_calculation(puts_op_t2, \"puts\")\n",
        "\n",
        "\n"
      ],
      "metadata": {
        "id": "KsMUtly16dD2"
      },
      "execution_count": 72,
      "outputs": []
    },
    {
      "cell_type": "code",
      "source": [
        "def otm_options(call,put):\n",
        "  otm_options=pd.concat([call,put]).sort_values('strike')\n",
        "  return otm_options\n",
        "\n",
        "otm_options_t1= otm_options(calls_otm_t1,puts_otm_t1)\n",
        "otm_options_t2= otm_options(calls_otm_t2,puts_otm_t2)"
      ],
      "metadata": {
        "id": "pYaVyPxsVMsz"
      },
      "execution_count": 73,
      "outputs": []
    },
    {
      "cell_type": "markdown",
      "source": [
        "I've estimated also the call price and the put price that are given by the option that has the lowest absolute difference between the spot price and the strike price for both of them.\n",
        "\n",
        "So, basically we are looking for the most ATM option.\n",
        "\n",
        "They are useful to calculate the forward price.\n",
        "\n"
      ],
      "metadata": {
        "id": "8Z4z-SPWpGCx"
      }
    },
    {
      "cell_type": "code",
      "source": [
        "# Get common strikes between calls and puts\n",
        "common_strikes_t1 = np.intersect1d(calls_op_t1[\"strike\"], puts_op_t1[\"strike\"])\n",
        "common_strikes_t2 = np.intersect1d(calls_op_t2[\"strike\"], puts_op_t2[\"strike\"])\n",
        "closest_strike_t1 = common_strikes_t1[np.argmin(np.abs(common_strikes_t1- spot_price))]\n",
        "closest_strike_t2 = common_strikes_t2[np.argmin(np.abs(common_strikes_t2- spot_price))]\n",
        "# Filter options at the closest strike\n",
        "call_price_t1 = calls_op_t1[calls_op_t1[\"strike\"] == closest_strike_t1][\"mid_price\"].values[0]\n",
        "put_price_t1 = puts_op_t1[puts_op_t1[\"strike\"] == closest_strike_t1][\"mid_price\"].values[0]\n",
        "call_price_t2 = calls_op_t2[calls_op_t2[\"strike\"] == closest_strike_t2][\"mid_price\"].values[0]\n",
        "put_price_t2 = puts_op_t2[puts_op_t2[\"strike\"] == closest_strike_t2][\"mid_price\"].values[0]\n",
        "call_price_t1, put_price_t1, closest_strike_t1\n"
      ],
      "metadata": {
        "colab": {
          "base_uri": "https://localhost:8080/"
        },
        "id": "vuwGONoQvPqA",
        "outputId": "bd38eb6b-88dd-43ad-9acf-09afeda4aa40"
      },
      "execution_count": 74,
      "outputs": [
        {
          "output_type": "execute_result",
          "data": {
            "text/plain": [
              "(11.195, 9.015, 600.0)"
            ]
          },
          "metadata": {},
          "execution_count": 74
        }
      ]
    },
    {
      "cell_type": "code",
      "source": [
        "current_time = datetime.now()\n",
        "def get_time_to_maturity(exp_date_str):\n",
        "    exp_date = datetime.strptime(exp_date_str, \"%Y-%m-%d\")\n",
        "    delta = exp_date - current_time\n",
        "    return delta.total_seconds() / 60\n",
        "weight1=get_time_to_maturity(chosen_date_t1)\n",
        "weight2=get_time_to_maturity(chosen_date_t2)\n",
        "T1 = get_time_to_maturity(chosen_date_t1)/ (525600)\n",
        "T2 = get_time_to_maturity(chosen_date_t2) / 525600\n",
        "weight1"
      ],
      "metadata": {
        "colab": {
          "base_uri": "https://localhost:8080/"
        },
        "id": "754mN0MpxC9g",
        "outputId": "81af630a-7815-4db6-fa65-a5b819a4eb6d"
      },
      "execution_count": 75,
      "outputs": [
        {
          "output_type": "execute_result",
          "data": {
            "text/plain": [
              "43553.22033546666"
            ]
          },
          "metadata": {},
          "execution_count": 75
        }
      ]
    },
    {
      "cell_type": "markdown",
      "source": [
        "## **VIX Formula**\n",
        "So, now thanks all the elements that we have at our disposal, we can estimate the VIX using its formula:\n",
        "$\n",
        "VIX = 100 \\times \\sqrt{T \\sum \\left( \\frac{\\Delta K_i}{K_i^2} e^{RT} Q(K_i) \\right) - \\frac{1}{T} \\left( \\frac{F}{K_0} - 1 \\right)^2}\n",
        "$\n",
        "where:  \n",
        "- $ T $ is time to expiration  \n",
        "- $ K_i $ are the option strikes  \n",
        "- $ \\Delta K_i $ is the difference between strikes  \n",
        "- $ F $ is the forward price  \n",
        "- $ Q(K_i) $ is the mid-price of OTM option  \n",
        "- $R$ is the risk-free rate (assumed to be equal to 0.0485)\n",
        "- $K_0$ is the first strike below $F$"
      ],
      "metadata": {
        "id": "2-4wbqXiPvcQ"
      }
    },
    {
      "cell_type": "code",
      "source": [
        "def vix_index(otm_options, call_price,put_price, time_to_maturity, risk_free_rate):\n",
        "\n",
        "  forward_price= otm_options[\"strike\"].iloc[0]+np.exp(risk_free_rate*time_to_maturity)*(call_price-put_price)\n",
        "\n",
        "  otm_options['delta_k'] = otm_options['strike'].diff().fillna(0)\n",
        "  otm_options['weight'] = (\n",
        "        (2 / time_to_maturity) * otm_options['delta_k'] / otm_options['strike']**2\n",
        "    )\n",
        "\n",
        "  weighted_variance = np.sum(\n",
        "        otm_options['weight'] * np.exp(risk_free_rate * time_to_maturity) * otm_options['mid_price']\n",
        "    )\n",
        "\n",
        "  forward_variance = weighted_variance - (1 / time_to_maturity) * (forward_price / otm_options['strike'].iloc[0] - 1)**2\n",
        "  vix = 100*np.sqrt(forward_variance)\n",
        "\n",
        "  return vix, forward_variance\n",
        "vixnear=vix_index(otm_options_t1, call_price_t1, put_price_t1, T1, risk_free_rate=0.0485)\n",
        "vixfar=vix_index(otm_options_t2, call_price_t2, put_price_t2,T2, risk_free_rate=0.0485)\n",
        "vixnear, vixfar"
      ],
      "metadata": {
        "colab": {
          "base_uri": "https://localhost:8080/"
        },
        "id": "9J2Gh4WtXZI5",
        "outputId": "27d19de6-76ca-4ceb-b613-ef0a65c6394f"
      },
      "execution_count": 76,
      "outputs": [
        {
          "output_type": "execute_result",
          "data": {
            "text/plain": [
              "((17.171964718161774, 0.029487637228179285),\n",
              " (17.87849705391158, 0.031964065690672505))"
            ]
          },
          "metadata": {},
          "execution_count": 76
        }
      ]
    },
    {
      "cell_type": "markdown",
      "source": [
        "This is the second approach for VIX calculation.\n",
        "It uses the forward variance calculated above for the near-terms options and the next-term options.\n",
        "\n",
        "\n",
        "$\n",
        "\\text{Volatility Index} = 100 \\times \\sqrt{ T_1 \\sigma_1^2 \\left[ \\frac{M_{T2} - M_{CM}}{M_{T2} - M_{T1}} \\right] + T_2 \\sigma_2^2 \\left[ \\frac{M_{CM} - M_{T1}}{M_{T2} - M_{T1}} \\right] } \\times \\frac{M_{365}}{M_{CM}}\n",
        "$\n",
        "\n",
        "where:  \n",
        "- $ T_1, T_2 $ are the times to expiration,  \n",
        "- $\\sigma_1, \\sigma_2 $ are the volatilities of near-term and far-term options,  \n",
        "- $ M_{T1}, M_{T2} $ are the times in minutes for near-term and far-term options,  \n",
        "- $ M_{CM} $ is the constant maturity time in minutes (typically 43200 for 30 days),  \n",
        "- $M_{365}$ represents the number of minutes in a year (525600)."
      ],
      "metadata": {
        "id": "ccS8h7fuByTU"
      }
    },
    {
      "cell_type": "code",
      "source": [
        "w1= (weight2-43200) / (weight2-weight1)\n",
        "w2= (43200-weight1) / (weight2-weight1)\n",
        "vix= 100*np.sqrt((w1*vixnear[1]*T1+w2*vixfar[1]*T2)*525600/43200)\n",
        "vix"
      ],
      "metadata": {
        "colab": {
          "base_uri": "https://localhost:8080/"
        },
        "id": "c2hJFQsa-Ljs",
        "outputId": "0b8985db-5400-4500-ecac-97bfbc706000"
      },
      "execution_count": 77,
      "outputs": [
        {
          "output_type": "execute_result",
          "data": {
            "text/plain": [
              "17.161716704892015"
            ]
          },
          "metadata": {},
          "execution_count": 77
        }
      ]
    },
    {
      "cell_type": "code",
      "source": [
        "vix_t= yf.Ticker(\"^VIX\")\n",
        "actual_vix= vix_t.history(period=\"1d\")[\"Close\"].iloc[-1]\n",
        "actual_vix\n",
        "plt.figure()\n",
        "plt.plot(vix_t.history(period=\"1y\")[\"Close\"], color=\"blue\")\n",
        "plt.title('VIX', fontweight='bold')\n",
        "plt.show()"
      ],
      "metadata": {
        "colab": {
          "base_uri": "https://localhost:8080/",
          "height": 452
        },
        "id": "z1LcRJs8ghMs",
        "outputId": "73178bfa-7846-4168-8685-87239f705278"
      },
      "execution_count": 78,
      "outputs": [
        {
          "output_type": "display_data",
          "data": {
            "text/plain": [
              "<Figure size 640x480 with 1 Axes>"
            ],
            "image/png": "[encoded data removed]"
          },
          "metadata": {}
        }
      ]
    },
    {
      "cell_type": "code",
      "source": [
        "actual_vix"
      ],
      "metadata": {
        "colab": {
          "base_uri": "https://localhost:8080/"
        },
        "id": "e1_vZDpeY-YY",
        "outputId": "f68dec66-1257-4fa5-e347-ac9391414243"
      },
      "execution_count": 79,
      "outputs": [
        {
          "output_type": "execute_result",
          "data": {
            "text/plain": [
              "17.1299991607666"
            ]
          },
          "metadata": {},
          "execution_count": 79
        }
      ]
    },
    {
      "cell_type": "markdown",
      "source": [
        "##Conclusions\n",
        "In both cases we have reached a good approximation of the VIX.\n",
        "It is in the normal range and it basically means that the market is quite \"stable\".\n",
        "It could have peaks or downturn movements, but in general the market's expectation on future implied volatility are not so much bad.\n",
        "\n",
        "Under these conditions having a **straddle** it could be a good way to work, because we expect a movement, maybe a large movement, but we do not know in which direction it will happen.\n",
        "\n",
        "Obviously, it depends on further analysis!\n",
        "\n"
      ],
      "metadata": {
        "id": "2giAj4BQDXju"
      }
    }
  ]
}