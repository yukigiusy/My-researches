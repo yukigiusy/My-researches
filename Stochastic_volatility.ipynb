{
  "nbformat": 4,
  "nbformat_minor": 0,
  "metadata": {
    "colab": {
      "provenance": [],
      "authorship_tag": "ABX9TyOXC1u+f26PL4St3W8MjAG1",
      "include_colab_link": true
    },
    "kernelspec": {
      "name": "python3",
      "display_name": "Python 3"
    },
    "language_info": {
      "name": "python"
    }
  },
  "cells": [
    {
      "cell_type": "markdown",
      "metadata": {
        "id": "view-in-github",
        "colab_type": "text"
      },
      "source": [
        "<a href=\"https://colab.research.google.com/github/yukigiusy/My-researches/blob/main/Stochastic_volatility.ipynb\" target=\"_parent\"><img src=\"https://colab.research.google.com/assets/colab-badge.svg\" alt=\"Open In Colab\"/></a>"
      ]
    },
    {
      "cell_type": "markdown",
      "source": [
        "#Stochastic volatility models"
      ],
      "metadata": {
        "id": "wARA8d58zQSu"
      }
    },
    {
      "cell_type": "markdown",
      "source": [
        "##Heston model: theory\n",
        "One of the main drawback of the BSM is the assumption related to the constant volatility, since we know that the volatility changes through time.\n",
        "\n",
        "So, there is a list of stochastic volatility model in which we assume that the volatility is stochastic and follows a specific random process.\n",
        "\n",
        "The first model is the Heston model: we start from the classical stochastic differential equation for the stock price and we extend it to the volatility.\n",
        "$dS_t = \\mu S_t dt + \\sqrt{V_t} S_t dW_t^1$\n",
        "\n",
        "The volatility, instead, follows this random process:\n",
        "$\n",
        "dV_t = \\kappa (\\theta - V_t) dt + \\sigma \\sqrt{V_t} dW_t^2\n",
        "$\n",
        "with the two Brownian motion that are correlated with the coefficient $\\rho$, since we need that the correlation structure between the stock price and the volatility is aligned to the real patterns\n",
        "$\\mathbb{E}^P[dW_t^1, dW_t^2] = \\rho dt$\n",
        "It can assume values between -1 and 1.\n",
        "\n",
        "##Elements\n",
        "- $\\kappa$ is greater than 0 andd it represents the speed of the mean reversion;\n",
        "- $\\theta$ is greater than 0 and it represents the mean reversion level;\n",
        "- $\\sigma$ is the volatility of the variance."
      ],
      "metadata": {
        "id": "-oitX8nhzVWI"
      }
    },
    {
      "cell_type": "markdown",
      "source": [
        "###Girsanov theorem\n",
        "We start from the **variance process** under the real-world measure $ P $:  \n",
        "\n",
        "$\n",
        "dV_t = \\kappa (\\theta - V_t) dt + \\sigma \\sqrt{V_t} dW_t^2\n",
        "$\n",
        "\n",
        "Applying **Girsanov’s theorem**, we know that under the risk-neutral measure $ Q$, we must introduce a **market price of volatility risk** $\\lambda(S_t, V_t, t)$, leading to a new Brownian motion:\n",
        "\n",
        "$\n",
        "dW_t^2 = d\\tilde{W}_t^2 - \\lambda(S_t, V_t, t) \\frac{dt}{\\sigma \\sqrt{V_t}}\n",
        "$\n",
        "\n",
        "Rewriting the variance process under $ Q $, we substitute:\n",
        "\n",
        "$\n",
        "dV_t = \\left[ \\kappa (\\theta - V_t) - \\lambda(S_t, V_t, t) \\right] dt + \\sigma \\sqrt{V_t} d\\tilde{W}_t^2\n",
        "$\n",
        "\n",
        "Now, if we assume that the volatility risk premium is **proportional to variance**, meaning:\n",
        "\n",
        "$\n",
        "\\lambda(S_t, V_t, t) = \\lambda V_t\n",
        "$\n",
        "\n",
        "we obtain:\n",
        "\n",
        "$\n",
        "dV_t = (\\kappa \\theta - (\\kappa + \\lambda) V_t) dt + \\sigma \\sqrt{V_t} d\\tilde{W}_t^2\n",
        "$\n",
        "\n",
        "Thus, defining:\n",
        "\n",
        "$\n",
        "\\kappa^* = \\kappa + \\lambda, \\quad \\theta^* = \\frac{\\kappa \\theta}{\\kappa^*}\n",
        "$\n",
        "\n",
        "we rewrite the variance equation under $ Q $:\n",
        "\n",
        "$\n",
        "dV_t = \\kappa^* (\\theta^* - V_t) dt + \\sigma \\sqrt{V_t} d\\tilde{W}_t^2\n",
        "$\n",
        "\n",
        "This transformation ensures that under $Q$, the variance process still exhibits mean reversion, but at an **adjusted speed $\\kappa^* $ and level $\\theta^*$**.\n",
        "\n",
        "If we assume **no volatility risk premium**, meaning $\\lambda = 0$, then from our definitions:\n",
        "\n",
        "$\n",
        "\\kappa^* = \\kappa + \\lambda = \\kappa\n",
        "$\n",
        "\n",
        "$\n",
        "\\theta^* = \\frac{\\kappa \\theta}{\\kappa^*} = \\frac{\\kappa \\theta}{\\kappa} = \\theta\n",
        "$\n",
        "\n",
        "This means that the risk-neutral variance process has the **same parameters as under the real-world measure**, implying that the only adjustment to the dynamics occurs in the stock price equation, where the drift changes from $ \\mu$ to $r$ (as expected under risk-neutrality)."
      ],
      "metadata": {
        "id": "VIaay4YJ28Wl"
      }
    },
    {
      "cell_type": "markdown",
      "source": [
        "##Calibration"
      ],
      "metadata": {
        "id": "qNfN5vIPdwc9"
      }
    },
    {
      "cell_type": "markdown",
      "source": [
        "In order to simulate the Heston model, like we did in the previous notebook, we can use the Euler discretization and then the maximum likelihood estimation for calibration fitting.\n",
        "\n",
        "###Euler discretization\n",
        "\n",
        "Euler discretization is a **numerical method** that simulates paths of the asset price $ S_t $ and volatility $v_t$ using **stochastic differential equations (SDEs)**.\n",
        "\n",
        "The Heston model consists of two coupled SDEs:\n",
        "\n",
        "$\n",
        "dS_t = r S_t dt + \\sqrt{v_t} S_t dW_t^S\n",
        "$\n",
        "\n",
        "$\n",
        "dv_t = \\kappa (\\theta - v_t) dt + \\sigma \\sqrt{v_t} dW_t^v\n",
        "$\n",
        "\n",
        "where $ dW_t^S $ and $dW_t^v$ are correlated Brownian motions with correlation $\\rho$.  \n",
        "\n",
        "The **Euler discretization** approximates the SDEs as:\n",
        "\n",
        "$\n",
        "S_{t+\\Delta t} = S_t + r S_t dt + \\sqrt{v_t dt} S_t Z_t^S\n",
        "$\n",
        "\n",
        "$\n",
        "v_{t+\\Delta t} = v_t + \\kappa (\\theta - v_t)+ \\sigma \\sqrt{v_t dt} Z_t^v\n",
        "$\n",
        "\n",
        "where $Z_t^S$ and $Z_t^v$ are **correlated standard normal variables**.\n",
        "\n"
      ],
      "metadata": {
        "id": "25MtvMuw-kJQ"
      }
    },
    {
      "cell_type": "code",
      "execution_count": 1,
      "metadata": {
        "id": "BRxUWoyhxy0y",
        "colab": {
          "base_uri": "https://localhost:8080/"
        },
        "outputId": "43e45ae9-2217-4e32-f725-0f9167a18bda"
      },
      "outputs": [
        {
          "output_type": "stream",
          "name": "stdout",
          "text": [
            "Requirement already satisfied: yfinance in /usr/local/lib/python3.11/dist-packages (0.2.52)\n",
            "Collecting yfinance\n",
            "  Downloading yfinance-0.2.54-py2.py3-none-any.whl.metadata (5.8 kB)\n",
            "Requirement already satisfied: pandas>=1.3.0 in /usr/local/lib/python3.11/dist-packages (from yfinance) (2.2.2)\n",
            "Requirement already satisfied: numpy>=1.16.5 in /usr/local/lib/python3.11/dist-packages (from yfinance) (1.26.4)\n",
            "Requirement already satisfied: requests>=2.31 in /usr/local/lib/python3.11/dist-packages (from yfinance) (2.32.3)\n",
            "Requirement already satisfied: multitasking>=0.0.7 in /usr/local/lib/python3.11/dist-packages (from yfinance) (0.0.11)\n",
            "Requirement already satisfied: platformdirs>=2.0.0 in /usr/local/lib/python3.11/dist-packages (from yfinance) (4.3.6)\n",
            "Requirement already satisfied: pytz>=2022.5 in /usr/local/lib/python3.11/dist-packages (from yfinance) (2025.1)\n",
            "Requirement already satisfied: frozendict>=2.3.4 in /usr/local/lib/python3.11/dist-packages (from yfinance) (2.4.6)\n",
            "Requirement already satisfied: peewee>=3.16.2 in /usr/local/lib/python3.11/dist-packages (from yfinance) (3.17.9)\n",
            "Requirement already satisfied: beautifulsoup4>=4.11.1 in /usr/local/lib/python3.11/dist-packages (from yfinance) (4.13.3)\n",
            "Requirement already satisfied: soupsieve>1.2 in /usr/local/lib/python3.11/dist-packages (from beautifulsoup4>=4.11.1->yfinance) (2.6)\n",
            "Requirement already satisfied: typing-extensions>=4.0.0 in /usr/local/lib/python3.11/dist-packages (from beautifulsoup4>=4.11.1->yfinance) (4.12.2)\n",
            "Requirement already satisfied: python-dateutil>=2.8.2 in /usr/local/lib/python3.11/dist-packages (from pandas>=1.3.0->yfinance) (2.8.2)\n",
            "Requirement already satisfied: tzdata>=2022.7 in /usr/local/lib/python3.11/dist-packages (from pandas>=1.3.0->yfinance) (2025.1)\n",
            "Requirement already satisfied: charset-normalizer<4,>=2 in /usr/local/lib/python3.11/dist-packages (from requests>=2.31->yfinance) (3.4.1)\n",
            "Requirement already satisfied: idna<4,>=2.5 in /usr/local/lib/python3.11/dist-packages (from requests>=2.31->yfinance) (3.10)\n",
            "Requirement already satisfied: urllib3<3,>=1.21.1 in /usr/local/lib/python3.11/dist-packages (from requests>=2.31->yfinance) (2.3.0)\n",
            "Requirement already satisfied: certifi>=2017.4.17 in /usr/local/lib/python3.11/dist-packages (from requests>=2.31->yfinance) (2025.1.31)\n",
            "Requirement already satisfied: six>=1.5 in /usr/local/lib/python3.11/dist-packages (from python-dateutil>=2.8.2->pandas>=1.3.0->yfinance) (1.17.0)\n",
            "Downloading yfinance-0.2.54-py2.py3-none-any.whl (108 kB)\n",
            "\u001b[2K   \u001b[90m━━━━━━━━━━━━━━━━━━━━━━━━━━━━━━━━━━━━━━━━\u001b[0m \u001b[32m108.7/108.7 kB\u001b[0m \u001b[31m4.3 MB/s\u001b[0m eta \u001b[36m0:00:00\u001b[0m\n",
            "\u001b[?25hInstalling collected packages: yfinance\n",
            "  Attempting uninstall: yfinance\n",
            "    Found existing installation: yfinance 0.2.52\n",
            "    Uninstalling yfinance-0.2.52:\n",
            "      Successfully uninstalled yfinance-0.2.52\n",
            "Successfully installed yfinance-0.2.54\n"
          ]
        }
      ],
      "source": [
        "import pandas as pd\n",
        "import numpy as np\n",
        "import seaborn as sns\n",
        "!pip install --upgrade yfinance\n",
        "import yfinance as yf\n",
        "import matplotlib.pyplot as plt\n",
        "import scipy.stats\n",
        "from scipy.stats import norm\n",
        "from scipy.optimize import minimize_scalar\n",
        "from scipy.optimize import minimize\n",
        "import scipy.stats as stats\n",
        "from scipy.stats import ncx2\n",
        "from scipy.integrate import quad\n",
        "import random\n",
        "import pandas as pd\n",
        "import numpy as np\n",
        "import seaborn as sns\n",
        "import yfinance as yf\n",
        "import matplotlib.pyplot as plt\n",
        "import scipy.stats\n",
        "from scipy.stats import norm\n",
        "from scipy.optimize import minimize_scalar\n",
        "from scipy.optimize import minimize\n",
        "import scipy.stats as stats\n",
        "from scipy.stats import ncx2\n",
        "from scipy.integrate import quad\n",
        "import random\n",
        "from scipy.stats import norm\n",
        "from mpl_toolkits.mplot3d import Axes3D"
      ]
    },
    {
      "cell_type": "code",
      "source": [
        "N_1= norm.cdf\n",
        "NVDA= yf.Ticker('NVDA')\n",
        "hist=NVDA.history(period=\"1y\")\n",
        "log_returns= np.log(hist[\"Close\"].pct_change())\n",
        "S= hist[\"Close\"].iloc[-1]\n",
        "S"
      ],
      "metadata": {
        "colab": {
          "base_uri": "https://localhost:8080/"
        },
        "id": "OsWD4uLMAUnI",
        "outputId": "0e93abb3-5422-4b8d-acbe-19863611354a"
      },
      "execution_count": 2,
      "outputs": [
        {
          "output_type": "stream",
          "name": "stderr",
          "text": [
            "/usr/local/lib/python3.11/dist-packages/pandas/core/arraylike.py:399: RuntimeWarning: invalid value encountered in log\n",
            "  result = getattr(ufunc, method)(*inputs, **kwargs)\n"
          ]
        },
        {
          "output_type": "execute_result",
          "data": {
            "text/plain": [
              "140.32000732421875"
            ]
          },
          "metadata": {},
          "execution_count": 2
        }
      ]
    },
    {
      "cell_type": "code",
      "source": [
        "expiration= NVDA.options\n",
        "chosen_date= expiration\n",
        "expiration[3]"
      ],
      "metadata": {
        "colab": {
          "base_uri": "https://localhost:8080/",
          "height": 35
        },
        "id": "hfLkknHtEGpQ",
        "outputId": "597c577e-611a-447e-e85f-848242400ff2"
      },
      "execution_count": 3,
      "outputs": [
        {
          "output_type": "execute_result",
          "data": {
            "text/plain": [
              "'2025-03-14'"
            ],
            "application/vnd.google.colaboratory.intrinsic+json": {
              "type": "string"
            }
          },
          "metadata": {},
          "execution_count": 3
        }
      ]
    },
    {
      "cell_type": "code",
      "source": [
        "options= NVDA.option_chain(expiration[3])\n",
        "call_op= options.calls.dropna()\n",
        "K_list= call_op[\"strike\"].values\n",
        "t_list=call_op[\"lastTradeDate\"].values\n",
        "call_op"
      ],
      "metadata": {
        "colab": {
          "base_uri": "https://localhost:8080/",
          "height": 617
        },
        "id": "iuuGHVS0EDVl",
        "outputId": "c8d1c513-356d-426d-fda1-7108cd230bd2"
      },
      "execution_count": 4,
      "outputs": [
        {
          "output_type": "execute_result",
          "data": {
            "text/plain": [
              "         contractSymbol             lastTradeDate  strike  lastPrice    bid  \\\n",
              "0   NVDA250314C00050000 2025-02-13 20:17:57+00:00    50.0      85.67  89.60   \n",
              "1   NVDA250314C00055000 2025-02-10 16:38:12+00:00    55.0      78.60  84.70   \n",
              "2   NVDA250314C00060000 2025-02-18 15:05:11+00:00    60.0      80.55  79.75   \n",
              "3   NVDA250314C00065000 2025-01-31 15:27:59+00:00    65.0      62.00  74.70   \n",
              "4   NVDA250314C00070000 2025-02-12 17:37:27+00:00    70.0      61.78  69.80   \n",
              "..                  ...                       ...     ...        ...    ...   \n",
              "65  NVDA250314C00220000 2025-02-18 18:29:41+00:00   220.0       0.06   0.03   \n",
              "66  NVDA250314C00225000 2025-02-18 20:55:03+00:00   225.0       0.04   0.03   \n",
              "67  NVDA250314C00230000 2025-02-18 18:39:14+00:00   230.0       0.04   0.02   \n",
              "68  NVDA250314C00235000 2025-02-19 16:21:03+00:00   235.0       0.02   0.01   \n",
              "69  NVDA250314C00240000 2025-02-18 19:02:40+00:00   240.0       0.01   0.01   \n",
              "\n",
              "      ask  change  percentChange  volume  openInterest  impliedVolatility  \\\n",
              "0   90.25     0.0            0.0       3            24           0.000010   \n",
              "1   85.30     0.0            0.0       2             2           0.000010   \n",
              "2   80.40     0.0            0.0       1             1           1.375003   \n",
              "3   75.40     0.0            0.0       1             1           1.253910   \n",
              "4   70.45     0.0            0.0      37            37           1.212895   \n",
              "..    ...     ...            ...     ...           ...                ...   \n",
              "65   0.05     0.0            0.0       7            80           0.667972   \n",
              "66   0.04     0.0            0.0      11            75           0.687503   \n",
              "67   0.04     0.0            0.0      10            62           0.703128   \n",
              "68   0.03     0.0            0.0      26            61           0.703128   \n",
              "69   0.03     0.0            0.0     389           508           0.726565   \n",
              "\n",
              "    inTheMoney contractSize currency  \n",
              "0         True      REGULAR      USD  \n",
              "1         True      REGULAR      USD  \n",
              "2         True      REGULAR      USD  \n",
              "3         True      REGULAR      USD  \n",
              "4         True      REGULAR      USD  \n",
              "..         ...          ...      ...  \n",
              "65       False      REGULAR      USD  \n",
              "66       False      REGULAR      USD  \n",
              "67       False      REGULAR      USD  \n",
              "68       False      REGULAR      USD  \n",
              "69       False      REGULAR      USD  \n",
              "\n",
              "[70 rows x 14 columns]"
            ],
            "text/html": [
              "\n",
              "  <div id=\"df-0e9f3621-090d-45f7-b160-c82c3e22c59a\" class=\"colab-df-container\">\n",
              "    <div>\n",
              "<style scoped>\n",
              "    .dataframe tbody tr th:only-of-type {\n",
              "        vertical-align: middle;\n",
              "    }\n",
              "\n",
              "    .dataframe tbody tr th {\n",
              "        vertical-align: top;\n",
              "    }\n",
              "\n",
              "    .dataframe thead th {\n",
              "        text-align: right;\n",
              "    }\n",
              "</style>\n",
              "<table border=\"1\" class=\"dataframe\">\n",
              "  <thead>\n",
              "    <tr style=\"text-align: right;\">\n",
              "      <th></th>\n",
              "      <th>contractSymbol</th>\n",
              "      <th>lastTradeDate</th>\n",
              "      <th>strike</th>\n",
              "      <th>lastPrice</th>\n",
              "      <th>bid</th>\n",
              "      <th>ask</th>\n",
              "      <th>change</th>\n",
              "      <th>percentChange</th>\n",
              "      <th>volume</th>\n",
              "      <th>openInterest</th>\n",
              "      <th>impliedVolatility</th>\n",
              "      <th>inTheMoney</th>\n",
              "      <th>contractSize</th>\n",
              "      <th>currency</th>\n",
              "    </tr>\n",
              "  </thead>\n",
              "  <tbody>\n",
              "    <tr>\n",
              "      <th>0</th>\n",
              "      <td>NVDA250314C00050000</td>\n",
              "      <td>2025-02-13 20:17:57+00:00</td>\n",
              "      <td>50.0</td>\n",
              "      <td>85.67</td>\n",
              "      <td>89.60</td>\n",
              "      <td>90.25</td>\n",
              "      <td>0.0</td>\n",
              "      <td>0.0</td>\n",
              "      <td>3</td>\n",
              "      <td>24</td>\n",
              "      <td>0.000010</td>\n",
              "      <td>True</td>\n",
              "      <td>REGULAR</td>\n",
              "      <td>USD</td>\n",
              "    </tr>\n",
              "    <tr>\n",
              "      <th>1</th>\n",
              "      <td>NVDA250314C00055000</td>\n",
              "      <td>2025-02-10 16:38:12+00:00</td>\n",
              "      <td>55.0</td>\n",
              "      <td>78.60</td>\n",
              "      <td>84.70</td>\n",
              "      <td>85.30</td>\n",
              "      <td>0.0</td>\n",
              "      <td>0.0</td>\n",
              "      <td>2</td>\n",
              "      <td>2</td>\n",
              "      <td>0.000010</td>\n",
              "      <td>True</td>\n",
              "      <td>REGULAR</td>\n",
              "      <td>USD</td>\n",
              "    </tr>\n",
              "    <tr>\n",
              "      <th>2</th>\n",
              "      <td>NVDA250314C00060000</td>\n",
              "      <td>2025-02-18 15:05:11+00:00</td>\n",
              "      <td>60.0</td>\n",
              "      <td>80.55</td>\n",
              "      <td>79.75</td>\n",
              "      <td>80.40</td>\n",
              "      <td>0.0</td>\n",
              "      <td>0.0</td>\n",
              "      <td>1</td>\n",
              "      <td>1</td>\n",
              "      <td>1.375003</td>\n",
              "      <td>True</td>\n",
              "      <td>REGULAR</td>\n",
              "      <td>USD</td>\n",
              "    </tr>\n",
              "    <tr>\n",
              "      <th>3</th>\n",
              "      <td>NVDA250314C00065000</td>\n",
              "      <td>2025-01-31 15:27:59+00:00</td>\n",
              "      <td>65.0</td>\n",
              "      <td>62.00</td>\n",
              "      <td>74.70</td>\n",
              "      <td>75.40</td>\n",
              "      <td>0.0</td>\n",
              "      <td>0.0</td>\n",
              "      <td>1</td>\n",
              "      <td>1</td>\n",
              "      <td>1.253910</td>\n",
              "      <td>True</td>\n",
              "      <td>REGULAR</td>\n",
              "      <td>USD</td>\n",
              "    </tr>\n",
              "    <tr>\n",
              "      <th>4</th>\n",
              "      <td>NVDA250314C00070000</td>\n",
              "      <td>2025-02-12 17:37:27+00:00</td>\n",
              "      <td>70.0</td>\n",
              "      <td>61.78</td>\n",
              "      <td>69.80</td>\n",
              "      <td>70.45</td>\n",
              "      <td>0.0</td>\n",
              "      <td>0.0</td>\n",
              "      <td>37</td>\n",
              "      <td>37</td>\n",
              "      <td>1.212895</td>\n",
              "      <td>True</td>\n",
              "      <td>REGULAR</td>\n",
              "      <td>USD</td>\n",
              "    </tr>\n",
              "    <tr>\n",
              "      <th>...</th>\n",
              "      <td>...</td>\n",
              "      <td>...</td>\n",
              "      <td>...</td>\n",
              "      <td>...</td>\n",
              "      <td>...</td>\n",
              "      <td>...</td>\n",
              "      <td>...</td>\n",
              "      <td>...</td>\n",
              "      <td>...</td>\n",
              "      <td>...</td>\n",
              "      <td>...</td>\n",
              "      <td>...</td>\n",
              "      <td>...</td>\n",
              "      <td>...</td>\n",
              "    </tr>\n",
              "    <tr>\n",
              "      <th>65</th>\n",
              "      <td>NVDA250314C00220000</td>\n",
              "      <td>2025-02-18 18:29:41+00:00</td>\n",
              "      <td>220.0</td>\n",
              "      <td>0.06</td>\n",
              "      <td>0.03</td>\n",
              "      <td>0.05</td>\n",
              "      <td>0.0</td>\n",
              "      <td>0.0</td>\n",
              "      <td>7</td>\n",
              "      <td>80</td>\n",
              "      <td>0.667972</td>\n",
              "      <td>False</td>\n",
              "      <td>REGULAR</td>\n",
              "      <td>USD</td>\n",
              "    </tr>\n",
              "    <tr>\n",
              "      <th>66</th>\n",
              "      <td>NVDA250314C00225000</td>\n",
              "      <td>2025-02-18 20:55:03+00:00</td>\n",
              "      <td>225.0</td>\n",
              "      <td>0.04</td>\n",
              "      <td>0.03</td>\n",
              "      <td>0.04</td>\n",
              "      <td>0.0</td>\n",
              "      <td>0.0</td>\n",
              "      <td>11</td>\n",
              "      <td>75</td>\n",
              "      <td>0.687503</td>\n",
              "      <td>False</td>\n",
              "      <td>REGULAR</td>\n",
              "      <td>USD</td>\n",
              "    </tr>\n",
              "    <tr>\n",
              "      <th>67</th>\n",
              "      <td>NVDA250314C00230000</td>\n",
              "      <td>2025-02-18 18:39:14+00:00</td>\n",
              "      <td>230.0</td>\n",
              "      <td>0.04</td>\n",
              "      <td>0.02</td>\n",
              "      <td>0.04</td>\n",
              "      <td>0.0</td>\n",
              "      <td>0.0</td>\n",
              "      <td>10</td>\n",
              "      <td>62</td>\n",
              "      <td>0.703128</td>\n",
              "      <td>False</td>\n",
              "      <td>REGULAR</td>\n",
              "      <td>USD</td>\n",
              "    </tr>\n",
              "    <tr>\n",
              "      <th>68</th>\n",
              "      <td>NVDA250314C00235000</td>\n",
              "      <td>2025-02-19 16:21:03+00:00</td>\n",
              "      <td>235.0</td>\n",
              "      <td>0.02</td>\n",
              "      <td>0.01</td>\n",
              "      <td>0.03</td>\n",
              "      <td>0.0</td>\n",
              "      <td>0.0</td>\n",
              "      <td>26</td>\n",
              "      <td>61</td>\n",
              "      <td>0.703128</td>\n",
              "      <td>False</td>\n",
              "      <td>REGULAR</td>\n",
              "      <td>USD</td>\n",
              "    </tr>\n",
              "    <tr>\n",
              "      <th>69</th>\n",
              "      <td>NVDA250314C00240000</td>\n",
              "      <td>2025-02-18 19:02:40+00:00</td>\n",
              "      <td>240.0</td>\n",
              "      <td>0.01</td>\n",
              "      <td>0.01</td>\n",
              "      <td>0.03</td>\n",
              "      <td>0.0</td>\n",
              "      <td>0.0</td>\n",
              "      <td>389</td>\n",
              "      <td>508</td>\n",
              "      <td>0.726565</td>\n",
              "      <td>False</td>\n",
              "      <td>REGULAR</td>\n",
              "      <td>USD</td>\n",
              "    </tr>\n",
              "  </tbody>\n",
              "</table>\n",
              "<p>70 rows × 14 columns</p>\n",
              "</div>\n",
              "    <div class=\"colab-df-buttons\">\n",
              "\n",
              "  <div class=\"colab-df-container\">\n",
              "    <button class=\"colab-df-convert\" onclick=\"convertToInteractive('df-0e9f3621-090d-45f7-b160-c82c3e22c59a')\"\n",
              "            title=\"Convert this dataframe to an interactive table.\"\n",
              "            style=\"display:none;\">\n",
              "\n",
              "  <svg xmlns=\"http://www.w3.org/2000/svg\" height=\"24px\" viewBox=\"0 -960 960 960\">\n",
              "    <path d=\"M120-120v-720h720v720H120Zm60-500h600v-160H180v160Zm220 220h160v-160H400v160Zm0 220h160v-160H400v160ZM180-400h160v-160H180v160Zm440 0h160v-160H620v160ZM180-180h160v-160H180v160Zm440 0h160v-160H620v160Z\"/>\n",
              "  </svg>\n",
              "    </button>\n",
              "\n",
              "  <style>\n",
              "    .colab-df-container {\n",
              "      display:flex;\n",
              "      gap: 12px;\n",
              "    }\n",
              "\n",
              "    .colab-df-convert {\n",
              "      background-color: #E8F0FE;\n",
              "      border: none;\n",
              "      border-radius: 50%;\n",
              "      cursor: pointer;\n",
              "      display: none;\n",
              "      fill: #1967D2;\n",
              "      height: 32px;\n",
              "      padding: 0 0 0 0;\n",
              "      width: 32px;\n",
              "    }\n",
              "\n",
              "    .colab-df-convert:hover {\n",
              "      background-color: #E2EBFA;\n",
              "      box-shadow: 0px 1px 2px rgba(60, 64, 67, 0.3), 0px 1px 3px 1px rgba(60, 64, 67, 0.15);\n",
              "      fill: #174EA6;\n",
              "    }\n",
              "\n",
              "    .colab-df-buttons div {\n",
              "      margin-bottom: 4px;\n",
              "    }\n",
              "\n",
              "    [theme=dark] .colab-df-convert {\n",
              "      background-color: #3B4455;\n",
              "      fill: #D2E3FC;\n",
              "    }\n",
              "\n",
              "    [theme=dark] .colab-df-convert:hover {\n",
              "      background-color: #434B5C;\n",
              "      box-shadow: 0px 1px 3px 1px rgba(0, 0, 0, 0.15);\n",
              "      filter: drop-shadow(0px 1px 2px rgba(0, 0, 0, 0.3));\n",
              "      fill: #FFFFFF;\n",
              "    }\n",
              "  </style>\n",
              "\n",
              "    <script>\n",
              "      const buttonEl =\n",
              "        document.querySelector('#df-0e9f3621-090d-45f7-b160-c82c3e22c59a button.colab-df-convert');\n",
              "      buttonEl.style.display =\n",
              "        google.colab.kernel.accessAllowed ? 'block' : 'none';\n",
              "\n",
              "      async function convertToInteractive(key) {\n",
              "        const element = document.querySelector('#df-0e9f3621-090d-45f7-b160-c82c3e22c59a');\n",
              "        const dataTable =\n",
              "          await google.colab.kernel.invokeFunction('convertToInteractive',\n",
              "                                                    [key], {});\n",
              "        if (!dataTable) return;\n",
              "\n",
              "        const docLinkHtml = 'Like what you see? Visit the ' +\n",
              "          '<a target=\"_blank\" href=https://colab.research.google.com/notebooks/data_table.ipynb>data table notebook</a>'\n",
              "          + ' to learn more about interactive tables.';\n",
              "        element.innerHTML = '';\n",
              "        dataTable['output_type'] = 'display_data';\n",
              "        await google.colab.output.renderOutput(dataTable, element);\n",
              "        const docLink = document.createElement('div');\n",
              "        docLink.innerHTML = docLinkHtml;\n",
              "        element.appendChild(docLink);\n",
              "      }\n",
              "    </script>\n",
              "  </div>\n",
              "\n",
              "\n",
              "<div id=\"df-cdb3fc94-1e02-46d8-8f3f-65d2d6b2b069\">\n",
              "  <button class=\"colab-df-quickchart\" onclick=\"quickchart('df-cdb3fc94-1e02-46d8-8f3f-65d2d6b2b069')\"\n",
              "            title=\"Suggest charts\"\n",
              "            style=\"display:none;\">\n",
              "\n",
              "<svg xmlns=\"http://www.w3.org/2000/svg\" height=\"24px\"viewBox=\"0 0 24 24\"\n",
              "     width=\"24px\">\n",
              "    <g>\n",
              "        <path d=\"M19 3H5c-1.1 0-2 .9-2 2v14c0 1.1.9 2 2 2h14c1.1 0 2-.9 2-2V5c0-1.1-.9-2-2-2zM9 17H7v-7h2v7zm4 0h-2V7h2v10zm4 0h-2v-4h2v4z\"/>\n",
              "    </g>\n",
              "</svg>\n",
              "  </button>\n",
              "\n",
              "<style>\n",
              "  .colab-df-quickchart {\n",
              "      --bg-color: #E8F0FE;\n",
              "      --fill-color: #1967D2;\n",
              "      --hover-bg-color: #E2EBFA;\n",
              "      --hover-fill-color: #174EA6;\n",
              "      --disabled-fill-color: #AAA;\n",
              "      --disabled-bg-color: #DDD;\n",
              "  }\n",
              "\n",
              "  [theme=dark] .colab-df-quickchart {\n",
              "      --bg-color: #3B4455;\n",
              "      --fill-color: #D2E3FC;\n",
              "      --hover-bg-color: #434B5C;\n",
              "      --hover-fill-color: #FFFFFF;\n",
              "      --disabled-bg-color: #3B4455;\n",
              "      --disabled-fill-color: #666;\n",
              "  }\n",
              "\n",
              "  .colab-df-quickchart {\n",
              "    background-color: var(--bg-color);\n",
              "    border: none;\n",
              "    border-radius: 50%;\n",
              "    cursor: pointer;\n",
              "    display: none;\n",
              "    fill: var(--fill-color);\n",
              "    height: 32px;\n",
              "    padding: 0;\n",
              "    width: 32px;\n",
              "  }\n",
              "\n",
              "  .colab-df-quickchart:hover {\n",
              "    background-color: var(--hover-bg-color);\n",
              "    box-shadow: 0 1px 2px rgba(60, 64, 67, 0.3), 0 1px 3px 1px rgba(60, 64, 67, 0.15);\n",
              "    fill: var(--button-hover-fill-color);\n",
              "  }\n",
              "\n",
              "  .colab-df-quickchart-complete:disabled,\n",
              "  .colab-df-quickchart-complete:disabled:hover {\n",
              "    background-color: var(--disabled-bg-color);\n",
              "    fill: var(--disabled-fill-color);\n",
              "    box-shadow: none;\n",
              "  }\n",
              "\n",
              "  .colab-df-spinner {\n",
              "    border: 2px solid var(--fill-color);\n",
              "    border-color: transparent;\n",
              "    border-bottom-color: var(--fill-color);\n",
              "    animation:\n",
              "      spin 1s steps(1) infinite;\n",
              "  }\n",
              "\n",
              "  @keyframes spin {\n",
              "    0% {\n",
              "      border-color: transparent;\n",
              "      border-bottom-color: var(--fill-color);\n",
              "      border-left-color: var(--fill-color);\n",
              "    }\n",
              "    20% {\n",
              "      border-color: transparent;\n",
              "      border-left-color: var(--fill-color);\n",
              "      border-top-color: var(--fill-color);\n",
              "    }\n",
              "    30% {\n",
              "      border-color: transparent;\n",
              "      border-left-color: var(--fill-color);\n",
              "      border-top-color: var(--fill-color);\n",
              "      border-right-color: var(--fill-color);\n",
              "    }\n",
              "    40% {\n",
              "      border-color: transparent;\n",
              "      border-right-color: var(--fill-color);\n",
              "      border-top-color: var(--fill-color);\n",
              "    }\n",
              "    60% {\n",
              "      border-color: transparent;\n",
              "      border-right-color: var(--fill-color);\n",
              "    }\n",
              "    80% {\n",
              "      border-color: transparent;\n",
              "      border-right-color: var(--fill-color);\n",
              "      border-bottom-color: var(--fill-color);\n",
              "    }\n",
              "    90% {\n",
              "      border-color: transparent;\n",
              "      border-bottom-color: var(--fill-color);\n",
              "    }\n",
              "  }\n",
              "</style>\n",
              "\n",
              "  <script>\n",
              "    async function quickchart(key) {\n",
              "      const quickchartButtonEl =\n",
              "        document.querySelector('#' + key + ' button');\n",
              "      quickchartButtonEl.disabled = true;  // To prevent multiple clicks.\n",
              "      quickchartButtonEl.classList.add('colab-df-spinner');\n",
              "      try {\n",
              "        const charts = await google.colab.kernel.invokeFunction(\n",
              "            'suggestCharts', [key], {});\n",
              "      } catch (error) {\n",
              "        console.error('Error during call to suggestCharts:', error);\n",
              "      }\n",
              "      quickchartButtonEl.classList.remove('colab-df-spinner');\n",
              "      quickchartButtonEl.classList.add('colab-df-quickchart-complete');\n",
              "    }\n",
              "    (() => {\n",
              "      let quickchartButtonEl =\n",
              "        document.querySelector('#df-cdb3fc94-1e02-46d8-8f3f-65d2d6b2b069 button');\n",
              "      quickchartButtonEl.style.display =\n",
              "        google.colab.kernel.accessAllowed ? 'block' : 'none';\n",
              "    })();\n",
              "  </script>\n",
              "</div>\n",
              "\n",
              "  <div id=\"id_4de17e82-aefc-4f83-9392-61807acae70b\">\n",
              "    <style>\n",
              "      .colab-df-generate {\n",
              "        background-color: #E8F0FE;\n",
              "        border: none;\n",
              "        border-radius: 50%;\n",
              "        cursor: pointer;\n",
              "        display: none;\n",
              "        fill: #1967D2;\n",
              "        height: 32px;\n",
              "        padding: 0 0 0 0;\n",
              "        width: 32px;\n",
              "      }\n",
              "\n",
              "      .colab-df-generate:hover {\n",
              "        background-color: #E2EBFA;\n",
              "        box-shadow: 0px 1px 2px rgba(60, 64, 67, 0.3), 0px 1px 3px 1px rgba(60, 64, 67, 0.15);\n",
              "        fill: #174EA6;\n",
              "      }\n",
              "\n",
              "      [theme=dark] .colab-df-generate {\n",
              "        background-color: #3B4455;\n",
              "        fill: #D2E3FC;\n",
              "      }\n",
              "\n",
              "      [theme=dark] .colab-df-generate:hover {\n",
              "        background-color: #434B5C;\n",
              "        box-shadow: 0px 1px 3px 1px rgba(0, 0, 0, 0.15);\n",
              "        filter: drop-shadow(0px 1px 2px rgba(0, 0, 0, 0.3));\n",
              "        fill: #FFFFFF;\n",
              "      }\n",
              "    </style>\n",
              "    <button class=\"colab-df-generate\" onclick=\"generateWithVariable('call_op')\"\n",
              "            title=\"Generate code using this dataframe.\"\n",
              "            style=\"display:none;\">\n",
              "\n",
              "  <svg xmlns=\"http://www.w3.org/2000/svg\" height=\"24px\"viewBox=\"0 0 24 24\"\n",
              "       width=\"24px\">\n",
              "    <path d=\"M7,19H8.4L18.45,9,17,7.55,7,17.6ZM5,21V16.75L18.45,3.32a2,2,0,0,1,2.83,0l1.4,1.43a1.91,1.91,0,0,1,.58,1.4,1.91,1.91,0,0,1-.58,1.4L9.25,21ZM18.45,9,17,7.55Zm-12,3A5.31,5.31,0,0,0,4.9,8.1,5.31,5.31,0,0,0,1,6.5,5.31,5.31,0,0,0,4.9,4.9,5.31,5.31,0,0,0,6.5,1,5.31,5.31,0,0,0,8.1,4.9,5.31,5.31,0,0,0,12,6.5,5.46,5.46,0,0,0,6.5,12Z\"/>\n",
              "  </svg>\n",
              "    </button>\n",
              "    <script>\n",
              "      (() => {\n",
              "      const buttonEl =\n",
              "        document.querySelector('#id_4de17e82-aefc-4f83-9392-61807acae70b button.colab-df-generate');\n",
              "      buttonEl.style.display =\n",
              "        google.colab.kernel.accessAllowed ? 'block' : 'none';\n",
              "\n",
              "      buttonEl.onclick = () => {\n",
              "        google.colab.notebook.generateWithVariable('call_op');\n",
              "      }\n",
              "      })();\n",
              "    </script>\n",
              "  </div>\n",
              "\n",
              "    </div>\n",
              "  </div>\n"
            ],
            "application/vnd.google.colaboratory.intrinsic+json": {
              "type": "dataframe",
              "variable_name": "call_op",
              "summary": "{\n  \"name\": \"call_op\",\n  \"rows\": 70,\n  \"fields\": [\n    {\n      \"column\": \"contractSymbol\",\n      \"properties\": {\n        \"dtype\": \"string\",\n        \"num_unique_values\": 70,\n        \"samples\": [\n          \"NVDA250314C00117000\",\n          \"NVDA250314C00050000\",\n          \"NVDA250314C00144000\"\n        ],\n        \"semantic_type\": \"\",\n        \"description\": \"\"\n      }\n    },\n    {\n      \"column\": \"lastTradeDate\",\n      \"properties\": {\n        \"dtype\": \"date\",\n        \"min\": \"2025-01-31 15:27:59+00:00\",\n        \"max\": \"2025-02-19 17:11:14+00:00\",\n        \"num_unique_values\": 65,\n        \"samples\": [\n          \"2025-02-19 17:07:07+00:00\",\n          \"2025-02-18 18:29:41+00:00\",\n          \"2025-02-13 20:17:57+00:00\"\n        ],\n        \"semantic_type\": \"\",\n        \"description\": \"\"\n      }\n    },\n    {\n      \"column\": \"strike\",\n      \"properties\": {\n        \"dtype\": \"number\",\n        \"std\": 44.04526421997079,\n        \"min\": 50.0,\n        \"max\": 240.0,\n        \"num_unique_values\": 70,\n        \"samples\": [\n          117.0,\n          50.0,\n          144.0\n        ],\n        \"semantic_type\": \"\",\n        \"description\": \"\"\n      }\n    },\n    {\n      \"column\": \"lastPrice\",\n      \"properties\": {\n        \"dtype\": \"number\",\n        \"std\": 21.44634960565242,\n        \"min\": 0.01,\n        \"max\": 85.67,\n        \"num_unique_values\": 68,\n        \"samples\": [\n          7.75,\n          30.1,\n          61.78\n        ],\n        \"semantic_type\": \"\",\n        \"description\": \"\"\n      }\n    },\n    {\n      \"column\": \"bid\",\n      \"properties\": {\n        \"dtype\": \"number\",\n        \"std\": 22.51897276956197,\n        \"min\": 0.01,\n        \"max\": 89.6,\n        \"num_unique_values\": 68,\n        \"samples\": [\n          7.7,\n          29.7,\n          69.8\n        ],\n        \"semantic_type\": \"\",\n        \"description\": \"\"\n      }\n    },\n    {\n      \"column\": \"ask\",\n      \"properties\": {\n        \"dtype\": \"number\",\n        \"std\": 22.693018649453194,\n        \"min\": 0.03,\n        \"max\": 90.25,\n        \"num_unique_values\": 68,\n        \"samples\": [\n          7.75,\n          29.85,\n          70.45\n        ],\n        \"semantic_type\": \"\",\n        \"description\": \"\"\n      }\n    },\n    {\n      \"column\": \"change\",\n      \"properties\": {\n        \"dtype\": \"number\",\n        \"std\": 0.5477940757246692,\n        \"min\": -2.5699997,\n        \"max\": 1.7400017,\n        \"num_unique_values\": 45,\n        \"samples\": [\n          -0.030000001,\n          0.5500002,\n          1.3000002\n        ],\n        \"semantic_type\": \"\",\n        \"description\": \"\"\n      }\n    },\n    {\n      \"column\": \"percentChange\",\n      \"properties\": {\n        \"dtype\": \"number\",\n        \"std\": 5.487687926494458,\n        \"min\": -22.222229,\n        \"max\": 12.093024,\n        \"num_unique_values\": 49,\n        \"samples\": [\n          1.1574074,\n          -22.222229,\n          -7.692306\n        ],\n        \"semantic_type\": \"\",\n        \"description\": \"\"\n      }\n    },\n    {\n      \"column\": \"volume\",\n      \"properties\": {\n        \"dtype\": \"number\",\n        \"std\": 327,\n        \"min\": 1,\n        \"max\": 1559,\n        \"num_unique_values\": 45,\n        \"samples\": [\n          58,\n          304,\n          355\n        ],\n        \"semantic_type\": \"\",\n        \"description\": \"\"\n      }\n    },\n    {\n      \"column\": \"openInterest\",\n      \"properties\": {\n        \"dtype\": \"number\",\n        \"std\": 1636,\n        \"min\": 1,\n        \"max\": 9180,\n        \"num_unique_values\": 68,\n        \"samples\": [\n          1318,\n          235,\n          50\n        ],\n        \"semantic_type\": \"\",\n        \"description\": \"\"\n      }\n    },\n    {\n      \"column\": \"impliedVolatility\",\n      \"properties\": {\n        \"dtype\": \"number\",\n        \"std\": 0.2313193829006618,\n        \"min\": 1.0000000000000003e-05,\n        \"max\": 1.3750031249999999,\n        \"num_unique_values\": 60,\n        \"samples\": [\n          1.0000000000000003e-05,\n          1.1181684716796876,\n          0.5651898950195313\n        ],\n        \"semantic_type\": \"\",\n        \"description\": \"\"\n      }\n    },\n    {\n      \"column\": \"inTheMoney\",\n      \"properties\": {\n        \"dtype\": \"boolean\",\n        \"num_unique_values\": 2,\n        \"samples\": [\n          false,\n          true\n        ],\n        \"semantic_type\": \"\",\n        \"description\": \"\"\n      }\n    },\n    {\n      \"column\": \"contractSize\",\n      \"properties\": {\n        \"dtype\": \"category\",\n        \"num_unique_values\": 1,\n        \"samples\": [\n          \"REGULAR\"\n        ],\n        \"semantic_type\": \"\",\n        \"description\": \"\"\n      }\n    },\n    {\n      \"column\": \"currency\",\n      \"properties\": {\n        \"dtype\": \"category\",\n        \"num_unique_values\": 1,\n        \"samples\": [\n          \"USD\"\n        ],\n        \"semantic_type\": \"\",\n        \"description\": \"\"\n      }\n    }\n  ]\n}"
            }
          },
          "metadata": {},
          "execution_count": 4
        }
      ]
    },
    {
      "cell_type": "code",
      "source": [
        "def time_to_maturity(expiration, trade_day):\n",
        "  exp = pd.to_datetime(expiration).tz_localize(None) # Make exp timezone-naive\n",
        "  trade = pd.to_datetime(trade_day).tz_localize(None) # Make trade timezone-naive\n",
        "  time_diff = (exp - trade).days\n",
        "  time_diff = time_diff / 365\n",
        "  return time_diff\n",
        "\n",
        "first_time = time_to_maturity(expiration[3], call_op['lastTradeDate'].iloc[0])\n",
        "times= call_op.apply(lambda row: time_to_maturity(expiration[3],row['lastTradeDate']),axis=1)\n",
        "times"
      ],
      "metadata": {
        "colab": {
          "base_uri": "https://localhost:8080/",
          "height": 459
        },
        "id": "E7lDU3l1EOZ9",
        "outputId": "a8f810e2-06cb-4064-ac98-5fadd708936f"
      },
      "execution_count": 5,
      "outputs": [
        {
          "output_type": "execute_result",
          "data": {
            "text/plain": [
              "0     0.076712\n",
              "1     0.084932\n",
              "2     0.063014\n",
              "3     0.112329\n",
              "4     0.079452\n",
              "        ...   \n",
              "65    0.063014\n",
              "66    0.063014\n",
              "67    0.063014\n",
              "68    0.060274\n",
              "69    0.063014\n",
              "Length: 70, dtype: float64"
            ],
            "text/html": [
              "<div>\n",
              "<style scoped>\n",
              "    .dataframe tbody tr th:only-of-type {\n",
              "        vertical-align: middle;\n",
              "    }\n",
              "\n",
              "    .dataframe tbody tr th {\n",
              "        vertical-align: top;\n",
              "    }\n",
              "\n",
              "    .dataframe thead th {\n",
              "        text-align: right;\n",
              "    }\n",
              "</style>\n",
              "<table border=\"1\" class=\"dataframe\">\n",
              "  <thead>\n",
              "    <tr style=\"text-align: right;\">\n",
              "      <th></th>\n",
              "      <th>0</th>\n",
              "    </tr>\n",
              "  </thead>\n",
              "  <tbody>\n",
              "    <tr>\n",
              "      <th>0</th>\n",
              "      <td>0.076712</td>\n",
              "    </tr>\n",
              "    <tr>\n",
              "      <th>1</th>\n",
              "      <td>0.084932</td>\n",
              "    </tr>\n",
              "    <tr>\n",
              "      <th>2</th>\n",
              "      <td>0.063014</td>\n",
              "    </tr>\n",
              "    <tr>\n",
              "      <th>3</th>\n",
              "      <td>0.112329</td>\n",
              "    </tr>\n",
              "    <tr>\n",
              "      <th>4</th>\n",
              "      <td>0.079452</td>\n",
              "    </tr>\n",
              "    <tr>\n",
              "      <th>...</th>\n",
              "      <td>...</td>\n",
              "    </tr>\n",
              "    <tr>\n",
              "      <th>65</th>\n",
              "      <td>0.063014</td>\n",
              "    </tr>\n",
              "    <tr>\n",
              "      <th>66</th>\n",
              "      <td>0.063014</td>\n",
              "    </tr>\n",
              "    <tr>\n",
              "      <th>67</th>\n",
              "      <td>0.063014</td>\n",
              "    </tr>\n",
              "    <tr>\n",
              "      <th>68</th>\n",
              "      <td>0.060274</td>\n",
              "    </tr>\n",
              "    <tr>\n",
              "      <th>69</th>\n",
              "      <td>0.063014</td>\n",
              "    </tr>\n",
              "  </tbody>\n",
              "</table>\n",
              "<p>70 rows × 1 columns</p>\n",
              "</div><br><label><b>dtype:</b> float64</label>"
            ]
          },
          "metadata": {},
          "execution_count": 5
        }
      ]
    },
    {
      "cell_type": "code",
      "source": [
        "T=252\n",
        "dt=1/252\n",
        "N=10\n",
        "random.seed(123)"
      ],
      "metadata": {
        "id": "96kA-I61Enq5"
      },
      "execution_count": 6,
      "outputs": []
    },
    {
      "cell_type": "code",
      "source": [
        "def heston_vol(kappa, theta, sigma, Z, T,dt,v_0):\n",
        "  v= np.zeros((T,N))\n",
        "  v[0,:]=v_0\n",
        "  for i in range(1,T):\n",
        "    v[i, :] = np.maximum(v[i-1, :] + kappa * (theta - v[i-1, :]) * dt + sigma * np.sqrt(v[i-1, :] * dt) * Z[i-1,:], 1e-6)\n",
        "  return v"
      ],
      "metadata": {
        "id": "EUUgz969EVxq"
      },
      "execution_count": 7,
      "outputs": []
    },
    {
      "cell_type": "code",
      "source": [
        "def stoch_price(S, r, v, Z,dt):\n",
        "  S_paths= np.zeros((T,N))\n",
        "  S_paths[0,:]=S\n",
        "  for i in range(1,T):\n",
        "    S_paths[i,:]=S_paths[i-1,:]+S_paths[i-1,:]*r*dt + np.sqrt(v[i-1,:]*dt)*S_paths[i-1,:]*Z[i-1,:]\n",
        "  return S_paths\n"
      ],
      "metadata": {
        "id": "tBjYxoLiFage"
      },
      "execution_count": 8,
      "outputs": []
    },
    {
      "cell_type": "markdown",
      "source": [
        "Then, I need to use the maximum likelihood estimator in order to calibrate the data $\\kappa$, $\\theta$ and $\\sigma$.\n",
        "\n",
        "MLE is a random variable that is able to maximize the argument of the likelihood function.\n",
        "\n",
        "For the likelihood function we need the pdf, the observed data and the parametric space of the unknown parameters.\n",
        "\n",
        "In the specific I need to use\n",
        "\n",
        "```\n",
        "stats.norm.pdf()\n",
        "```\n",
        "for which I need the mean and the variance.\n",
        "The volatility sde is modelled through **non-central chi-squared** (ncx²).\n",
        "\n",
        "A non-central chi-squared distribution arises when summing the squares of independent normal variables, but with a nonzero mean.\n",
        "\n",
        "The **Heston model** assumes that variance $v_t$ follows a **Cox-Ingersoll-Ross (CIR) process** that converges to **non-central chi-squared**:\n",
        "$dv_t = \\kappa (\\theta - v_t) dt + \\sigma \\sqrt{v_t} dW_t$\n",
        "\n",
        "\n"
      ],
      "metadata": {
        "id": "rbWF_g8QWmqW"
      }
    },
    {
      "cell_type": "code",
      "source": [
        "initial_params = [0.8,0.02,0.02,0.07,-0.5,1.65]\n",
        "dZ = np.random.multivariate_normal(mean=[0, 0], cov=[[dt, initial_params[4]], [initial_params[4], dt]], size=(T-1, N))\n",
        "Z1 = dZ[:, :, 0]\n",
        "Z2 = dZ[:, :, 1]\n",
        "v = heston_vol(initial_params[2], initial_params[1], initial_params[3], Z2, T,dt,initial_params[-1])\n",
        "S_paths = stoch_price(S, initial_params[0], v, Z1,dt)"
      ],
      "metadata": {
        "id": "-OwhNmU2KGRc",
        "colab": {
          "base_uri": "https://localhost:8080/"
        },
        "outputId": "0f4c1ef5-291f-447c-981b-c213a13eb754"
      },
      "execution_count": 9,
      "outputs": [
        {
          "output_type": "stream",
          "name": "stderr",
          "text": [
            "<ipython-input-9-18cd265b4f39>:2: RuntimeWarning: covariance is not symmetric positive-semidefinite.\n",
            "  dZ = np.random.multivariate_normal(mean=[0, 0], cov=[[dt, initial_params[4]], [initial_params[4], dt]], size=(T-1, N))\n"
          ]
        }
      ]
    },
    {
      "cell_type": "code",
      "source": [
        "def heston_log_likelihood(params, S, v, dt, T):\n",
        "    r, theta, kappa, sigma, rho, v_0 = params\n",
        "    log_likelihood = 0\n",
        "\n",
        "    for t in range(1, T):\n",
        "        try:\n",
        "            c = 2 * kappa / (sigma**2 * (1 - np.exp(-kappa * dt)))\n",
        "            df = 4 * kappa * theta / sigma**2\n",
        "            nc = c * v[t-1] * np.exp(-kappa * dt)\n",
        "            p_v = stats.ncx2.pdf(2 * c * v[t], df, nc)\n",
        "            mu_q = S[t-1] + (r - 0.5 * v[t-1]) * dt\n",
        "            sigma_q = np.sqrt(v[t-1] * dt)\n",
        "            p_q = stats.norm.pdf(S[t], loc=mu_q, scale=sigma_q)\n",
        "\n",
        "            # Check for invalid values\n",
        "            if np.isnan(p_v).any() or np.isnan(p_q).any():\n",
        "                print(f\"NaN detected at t={t}\")\n",
        "                print(f\"v[t-1]: {v[t-1]}, mu_q: {mu_q}, sigma_q: {sigma_q}\")\n",
        "                return np.inf  # Return a large number instead of NaN\n",
        "\n",
        "            log_likelihood += np.sum(np.log(p_v + 1e-10)) + np.sum(np.log(p_q + 1e-10))\n",
        "\n",
        "        except Exception as e:\n",
        "            print(f\"Error at t={t}: {e}\")\n",
        "            return np.inf  # Prevent optimizer from breaking\n",
        "\n",
        "    return -log_likelihood  # Negative log-likelihood for minimization\n",
        "bnds_r = ((0, 10),)  # Bounds for 'r'\n",
        "bnds_theta = ((0, None),)  # Bounds for 'theta'\n",
        "bnds_kappa = ((0, None),)  # Bounds for 'kappa'\n",
        "bnds_sigma = ((0, None),)  # Bounds for 'sigma'\n",
        "bnds_rho = ((-1, 1),)  # Bounds for 'rho'\n",
        "bnds_v = ((0, None),)\n",
        "# Combine bounds into a single sequence of tuples\n",
        "bounds = bnds_r + bnds_theta + bnds_kappa + bnds_sigma + bnds_rho +bnds_v\n",
        "result = minimize(heston_log_likelihood, initial_params, args=(S_paths, v, dt, T), bounds=bounds, method=\"Nelder-Mead\")\n",
        "\n",
        "print(\"Estimated parameters:\", result.x)\n"
      ],
      "metadata": {
        "colab": {
          "base_uri": "https://localhost:8080/"
        },
        "id": "xrc287zGHend",
        "outputId": "c69015dc-f86c-47ce-eb89-42cbbc09aaf5"
      },
      "execution_count": 10,
      "outputs": [
        {
          "output_type": "stream",
          "name": "stdout",
          "text": [
            "Estimated parameters: [ 1.73544911  0.01076435  0.01590038  0.06160426 -0.21875001  1.33883954]\n"
          ]
        }
      ]
    },
    {
      "cell_type": "markdown",
      "source": [
        "## Pricing Nvidia option through Heston model"
      ],
      "metadata": {
        "id": "ayqxkfXawChA"
      }
    },
    {
      "cell_type": "markdown",
      "source": [
        "The PDE governing the price $ U(S, v, t) $ of a derivative under the Heston model is:\n",
        "\n",
        "$\n",
        "\\frac{\\partial U}{\\partial t} + (r - q) S \\frac{\\partial U}{\\partial S} + \\kappa (\\theta - v) \\frac{\\partial U}{\\partial v} + \\frac{1}{2} v S^2 \\frac{\\partial^2 U}{\\partial S^2} + \\frac{1}{2} \\sigma^2 v \\frac{\\partial^2 U}{\\partial v^2} + \\rho \\sigma v S \\frac{\\partial^2 U}{\\partial S \\partial v} - r U = 0,\n",
        "$\n",
        "\n",
        "**Parameters:**\n",
        "- $ S $: Asset price.\n",
        "- $v $: Variance (volatility squared).\n",
        "- $r$: Risk-free rate.\n",
        "- $q$: Dividend yield.\n",
        "- $\\kappa$: Mean reversion speed of variance.\n",
        "- $\\theta$: Long-term mean variance.\n",
        "- $\\sigma$: Volatility of volatility.\n",
        "- $\\rho $: Correlation between asset price and variance.\n",
        "\n",
        "---\n",
        "The price of a European call option is:\n",
        "\n",
        "$\n",
        "C(S, v, t) = S e^{-q(T-t)} P_1 - K e^{-r(T-t)} P_2, $\n",
        "\n",
        "where $P_1$ and $P_2$ are probabilities derived from the characteristic functions of the Heston model. These probabilities are computed via Fourier inversion:\n",
        "\n",
        "$\n",
        "P_j = \\frac{1}{2} + \\frac{1}{\\pi} \\int_0^\\infty \\text{Re}\\left[ \\frac{e^{-i u \\ln K} \\phi_j(u)}{i u} \\right] du \\quad (j = 1, 2).\n",
        "$\n",
        "\n",
        "**Characteristic Functions $\\phi_j$:**\n",
        "\n",
        "$\n",
        "\\phi_j(u, S, v, t) = \\exp\\left[ C_j(\\tau, u) + D_j(\\tau, u) v + i u \\ln S \\right],\n",
        "$\n",
        "\n",
        "where $\\tau = T - t $, and $ C_j, D_j $ are given by:\n",
        "\n",
        "$\n",
        "\\begin{aligned}\n",
        "C_j(\\tau, u) &= r i u \\tau + \\frac{\\kappa \\theta}{\\sigma^2} \\left[ (b_j - \\rho \\sigma i u + d_j) \\tau - 2 \\ln\\left( \\frac{1 - g_j e^{d_j \\tau}}{1 - g_j} \\right) \\right], \\\\\n",
        "D_j(\\tau, u) &= \\frac{b_j - \\rho \\sigma i u + d_j}{\\sigma^2} \\left( \\frac{1 - e^{d_j \\tau}}{1 - g_j e^{d_j \\tau}} \\right), \\\\\n",
        "d_j &= \\sqrt{(\\rho \\sigma i u - b_j)^2 - \\sigma^2 (2 u_j i u - u^2)}, \\\\\n",
        "g_j &= \\frac{b_j - \\rho \\sigma i u + d_j}{b_j - \\rho \\sigma i u - d_j}.\n",
        "\\end{aligned}\n",
        "$\n",
        "\n",
        "**Parameters for $P_1$ and $P_2 $:**\n",
        "- For $P_1$: $u_1 = 0.5, \\, b_1 = \\kappa - \\rho \\sigma $.\n",
        "- For $P_2$: $ u_2 = -0.5, \\, b_2 = \\kappa $.\n"
      ],
      "metadata": {
        "id": "ie3GcVmFi-36"
      }
    },
    {
      "cell_type": "code",
      "source": [
        "K=call_op[\"strike\"][0]"
      ],
      "metadata": {
        "id": "TyOvQiJ8TFRp"
      },
      "execution_count": 11,
      "outputs": []
    },
    {
      "cell_type": "code",
      "source": [
        "v_t=v[-1,-1]\n",
        "v_t"
      ],
      "metadata": {
        "colab": {
          "base_uri": "https://localhost:8080/"
        },
        "id": "SR5v7BMDd-j5",
        "outputId": "2b2982b8-f9b5-413a-8a06-d7149fa2b7f5"
      },
      "execution_count": 12,
      "outputs": [
        {
          "output_type": "execute_result",
          "data": {
            "text/plain": [
              "1.7459110133176186"
            ]
          },
          "metadata": {},
          "execution_count": 12
        }
      ]
    },
    {
      "cell_type": "code",
      "source": [
        "def heston_characteristic_function(tau, S, v, r, kappa, theta, sigma, rho, j):\n",
        "    i = 1j\n",
        "    if j == 1:\n",
        "        b = kappa - rho * sigma\n",
        "        u=0.5\n",
        "    elif j == 2:\n",
        "        b = kappa\n",
        "        u=-0.5\n",
        "\n",
        "\n",
        "    d = np.sqrt((rho * sigma * i * u - b)**2 - sigma**2 * (2 * u * i * u - u**2))\n",
        "    g = (b - rho * sigma * i * u - d) / (b - rho * sigma * i * u + d)\n",
        "\n",
        "    C = (r * i * u * tau +\n",
        "         (kappa * theta / sigma**2) *\n",
        "         ((b - rho * sigma * i * u - d) * tau - 2 * np.log((1 - g * np.exp(-d * tau)) / (1 - g))))\n",
        "\n",
        "    D = ( (b - rho * sigma * i * u - d) / sigma**2 *\n",
        "        ( (1 - np.exp(-d * tau)) / (1 - g * np.exp(-d * tau)) ))\n",
        "\n",
        "    phi = np.exp(C + D * v + i * u * np.log(S))\n",
        "    return phi"
      ],
      "metadata": {
        "id": "sQKmwSeDX3AH"
      },
      "execution_count": 13,
      "outputs": []
    },
    {
      "cell_type": "code",
      "source": [
        "def call_price(S,P1,P2,T,r,K):\n",
        "  call_price = S * np.exp(-0*T) * P1 - K * np.exp(-r * T) * P2\n",
        "  return call_price"
      ],
      "metadata": {
        "id": "IObbJGpQ2bCd"
      },
      "execution_count": 14,
      "outputs": []
    },
    {
      "cell_type": "code",
      "source": [
        "def compute_Pj(j, K, S, v, r, kappa, theta, sigma, rho, tau):\n",
        "    phi_j = lambda u: heston_characteristic_function(tau, S, v, r, kappa, theta, sigma, rho, j)\n",
        "    integral, _ = quad(lambda u: np.real(np.exp(-1j * u * np.log(K)) * phi_j(u) / (1j * u)), 0, np.inf)\n",
        "    return 0.5 + (1 / np.pi) * integral\n",
        "\n",
        "# Define objective function for optimization\n",
        "def optimal_values(params, S, K, T, last_price):\n",
        "    r, kappa, theta, sigma, rho, v = params\n",
        "    P1 = compute_Pj(1, K, S, v, r, kappa, theta, sigma, rho, T)\n",
        "    P2 = compute_Pj(2, K, S, v, r, kappa, theta, sigma, rho, T)\n",
        "    model_price = call_price(S, P1, P2, T, r, K)\n",
        "    return (model_price - last_price) ** 2\n",
        "\n",
        "initial_params = [result.x[0],result.x[2],result.x[1],result.x[3],result.x[4],v_t]\n",
        "last_price = call_op[\"lastPrice\"].iloc[0]\n",
        "bnds_r = ((-10, 10),)  # Bounds for 'r'\n",
        "bnds_theta = ((0, None),)  # Bounds for 'theta'\n",
        "bnds_kappa = ((0, None),)  # Bounds for 'kappa'\n",
        "bnds_sigma = ((0, None),)  # Bounds for 'sigma'\n",
        "bnds_rho = ((-1, 1),)\n",
        "bnds_v= ((0, None),)\n",
        "bounds = bnds_r + bnds_theta + bnds_kappa + bnds_sigma + bnds_rho  + bnds_v\n",
        "optimal_result = minimize(optimal_values, initial_params, args=(S, K, first_time, last_price), bounds=bounds, method=\"Nelder-Mead\")\n",
        "print(\"Optimized parameters:\", optimal_result.x)"
      ],
      "metadata": {
        "colab": {
          "base_uri": "https://localhost:8080/"
        },
        "id": "g9cMAuSBpKQy",
        "outputId": "4fbe5ec9-94b5-4fbc-9827-9631f970e731"
      },
      "execution_count": 15,
      "outputs": [
        {
          "output_type": "stream",
          "name": "stderr",
          "text": [
            "<ipython-input-15-63b0313b837c>:3: IntegrationWarning: The integral is probably divergent, or slowly convergent.\n",
            "  integral, _ = quad(lambda u: np.real(np.exp(-1j * u * np.log(K)) * phi_j(u) / (1j * u)), 0, np.inf)\n",
            "<ipython-input-15-63b0313b837c>:3: IntegrationWarning: The maximum number of subdivisions (50) has been achieved.\n",
            "  If increasing the limit yields no improvement it is advised to analyze \n",
            "  the integrand in order to determine the difficulties.  If the position of a \n",
            "  local difficulty can be determined (singularity, discontinuity) one will \n",
            "  probably gain from splitting up the interval and calling the integrator \n",
            "  on the subranges.  Perhaps a special-purpose integrator should be used.\n",
            "  integral, _ = quad(lambda u: np.real(np.exp(-1j * u * np.log(K)) * phi_j(u) / (1j * u)), 0, np.inf)\n",
            "<ipython-input-13-247f446027af>:15: RuntimeWarning: divide by zero encountered in scalar divide\n",
            "  (kappa * theta / sigma**2) *\n",
            "<ipython-input-13-247f446027af>:15: RuntimeWarning: invalid value encountered in scalar multiply\n",
            "  (kappa * theta / sigma**2) *\n",
            "<ipython-input-13-247f446027af>:18: RuntimeWarning: invalid value encountered in scalar divide\n",
            "  D = ( (b - rho * sigma * i * u - d) / sigma**2 *\n",
            "<ipython-input-15-63b0313b837c>:3: IntegrationWarning: The occurrence of roundoff error is detected, which prevents \n",
            "  the requested tolerance from being achieved.  The error may be \n",
            "  underestimated.\n",
            "  integral, _ = quad(lambda u: np.real(np.exp(-1j * u * np.log(K)) * phi_j(u) / (1j * u)), 0, np.inf)\n"
          ]
        },
        {
          "output_type": "stream",
          "name": "stdout",
          "text": [
            "Optimized parameters: [10.          0.03660744  0.07585478  0.25795341  1.         33.40153123]\n"
          ]
        }
      ]
    },
    {
      "cell_type": "code",
      "source": [
        "phi1=heston_characteristic_function(first_time,S,optimal_result.x[-1],optimal_result.x[0],optimal_result.x[1],optimal_result.x[2],optimal_result.x[3],optimal_result.x[4],j=1)\n",
        "phi2=heston_characteristic_function(first_time,S,optimal_result.x[-1],optimal_result.x[0],optimal_result.x[1],optimal_result.x[2],optimal_result.x[3],optimal_result.x[4],j=2)\n",
        "P1 = compute_Pj(1, K, S, optimal_result.x[-1], optimal_result.x[0], optimal_result.x[1], optimal_result.x[2], optimal_result.x[3], optimal_result.x[4], first_time)\n",
        "P2 = compute_Pj(2, K, S, optimal_result.x[-1], optimal_result.x[0], optimal_result.x[1], optimal_result.x[2], optimal_result.x[3], optimal_result.x[4], first_time)\n",
        "price=call_price(S,P1,P2,first_time,optimal_result.x[0],K)\n",
        "price"
      ],
      "metadata": {
        "colab": {
          "base_uri": "https://localhost:8080/"
        },
        "id": "2MrSv7hUkCeN",
        "outputId": "4348e8f3-1a31-48fc-8d5d-6acc5f89da27"
      },
      "execution_count": 16,
      "outputs": [
        {
          "output_type": "stream",
          "name": "stderr",
          "text": [
            "<ipython-input-15-63b0313b837c>:3: IntegrationWarning: The integral is probably divergent, or slowly convergent.\n",
            "  integral, _ = quad(lambda u: np.real(np.exp(-1j * u * np.log(K)) * phi_j(u) / (1j * u)), 0, np.inf)\n"
          ]
        },
        {
          "output_type": "execute_result",
          "data": {
            "text/plain": [
              "82.01444141748212"
            ]
          },
          "metadata": {},
          "execution_count": 16
        }
      ]
    },
    {
      "cell_type": "code",
      "source": [
        "call_op[\"Heston price\"]=call_op.apply(lambda row: call_price(S,P1,P2,time_to_maturity(expiration[3], row[\"lastTradeDate\"]), optimal_result.x[0],row[\"strike\"]), axis=1)\n",
        "call_op[\"Heston price\"]"
      ],
      "metadata": {
        "colab": {
          "base_uri": "https://localhost:8080/",
          "height": 459
        },
        "id": "yEQ7wYz-Elmx",
        "outputId": "aea656ac-e554-4363-bd44-d9c94c312835"
      },
      "execution_count": 17,
      "outputs": [
        {
          "output_type": "execute_result",
          "data": {
            "text/plain": [
              "0      82.014441\n",
              "1      82.277130\n",
              "2      89.497822\n",
              "3      80.233285\n",
              "4      89.219108\n",
              "         ...    \n",
              "65    162.502449\n",
              "66    164.783843\n",
              "67    167.065238\n",
              "68    172.324931\n",
              "69    171.628027\n",
              "Name: Heston price, Length: 70, dtype: float64"
            ],
            "text/html": [
              "<div>\n",
              "<style scoped>\n",
              "    .dataframe tbody tr th:only-of-type {\n",
              "        vertical-align: middle;\n",
              "    }\n",
              "\n",
              "    .dataframe tbody tr th {\n",
              "        vertical-align: top;\n",
              "    }\n",
              "\n",
              "    .dataframe thead th {\n",
              "        text-align: right;\n",
              "    }\n",
              "</style>\n",
              "<table border=\"1\" class=\"dataframe\">\n",
              "  <thead>\n",
              "    <tr style=\"text-align: right;\">\n",
              "      <th></th>\n",
              "      <th>Heston price</th>\n",
              "    </tr>\n",
              "  </thead>\n",
              "  <tbody>\n",
              "    <tr>\n",
              "      <th>0</th>\n",
              "      <td>82.014441</td>\n",
              "    </tr>\n",
              "    <tr>\n",
              "      <th>1</th>\n",
              "      <td>82.277130</td>\n",
              "    </tr>\n",
              "    <tr>\n",
              "      <th>2</th>\n",
              "      <td>89.497822</td>\n",
              "    </tr>\n",
              "    <tr>\n",
              "      <th>3</th>\n",
              "      <td>80.233285</td>\n",
              "    </tr>\n",
              "    <tr>\n",
              "      <th>4</th>\n",
              "      <td>89.219108</td>\n",
              "    </tr>\n",
              "    <tr>\n",
              "      <th>...</th>\n",
              "      <td>...</td>\n",
              "    </tr>\n",
              "    <tr>\n",
              "      <th>65</th>\n",
              "      <td>162.502449</td>\n",
              "    </tr>\n",
              "    <tr>\n",
              "      <th>66</th>\n",
              "      <td>164.783843</td>\n",
              "    </tr>\n",
              "    <tr>\n",
              "      <th>67</th>\n",
              "      <td>167.065238</td>\n",
              "    </tr>\n",
              "    <tr>\n",
              "      <th>68</th>\n",
              "      <td>172.324931</td>\n",
              "    </tr>\n",
              "    <tr>\n",
              "      <th>69</th>\n",
              "      <td>171.628027</td>\n",
              "    </tr>\n",
              "  </tbody>\n",
              "</table>\n",
              "<p>70 rows × 1 columns</p>\n",
              "</div><br><label><b>dtype:</b> float64</label>"
            ]
          },
          "metadata": {},
          "execution_count": 17
        }
      ]
    },
    {
      "cell_type": "markdown",
      "source": [
        "###Volatility surface from the Heston model\n",
        "- The initial variance $v_0$ and the long-term mean of the variance $\\theta$ control the level of the implied volatility curve, that is the second moment;\n",
        "\n",
        "- The correlation $\\rho$ controls the skew of the implied volatility curve, that is the third moment;\n",
        "\n",
        "- The volatility of the volatility $\\sigma$ controls the smile of the implied volatility, that is the fourth moment.\n",
        "\n",
        "In the Heston model, the cumulative variance is the integral of the instantaneous variance that follows a CIR model.\n"
      ],
      "metadata": {
        "id": "bPVCxSU8cc2E"
      }
    },
    {
      "cell_type": "code",
      "source": [
        "def black_scholes(S0,K,T,r,sigma,option_type='call'):\n",
        "\n",
        "  d1 = (np.log(S0 / K) + (r + 0.5 * sigma**2) * T) / (sigma * np.sqrt(T))\n",
        "  d2 = d1 - sigma * np.sqrt(T)\n",
        "\n",
        "  if option_type == 'call':\n",
        "      return S0 * N_1(d1) - K * np.exp(-r * T) * N_1(d2)\n",
        "  else:\n",
        "      return K * np.exp(-r * T) * N_1(-d2) - S0 * N_1(-d1)\n"
      ],
      "metadata": {
        "id": "ftCy5XxVUXcA"
      },
      "execution_count": 18,
      "outputs": []
    },
    {
      "cell_type": "code",
      "source": [
        "def implied_vol(S0,K,T,r,option_price,option_type=\"call\"):\n",
        "  payoff= lambda sigma: (black_scholes(S0,K,T,r,sigma,option_type=\"call\") - option_price)**2\n",
        "  result= minimize_scalar(payoff,method=\"bounded\", bounds=(0,3))\n",
        "  return result.x if result.success else np.nan\n"
      ],
      "metadata": {
        "id": "hjIzQWKFXk1H"
      },
      "execution_count": 19,
      "outputs": []
    },
    {
      "cell_type": "code",
      "source": [
        "last_price=call_op[\"lastPrice\"][0]"
      ],
      "metadata": {
        "id": "Ts7rUe2u7Qp2"
      },
      "execution_count": 20,
      "outputs": []
    },
    {
      "cell_type": "code",
      "source": [
        "impl_vol=implied_vol(S,K,first_time,optimal_result.x[0],last_price,option_type=\"call\")\n",
        "impl_vol"
      ],
      "metadata": {
        "colab": {
          "base_uri": "https://localhost:8080/"
        },
        "id": "IxJQBng5aeZc",
        "outputId": "0738ec13-1300-48b7-f843-7b3ecf8b1380"
      },
      "execution_count": 21,
      "outputs": [
        {
          "output_type": "execute_result",
          "data": {
            "text/plain": [
              "0.7082097830038474"
            ]
          },
          "metadata": {},
          "execution_count": 21
        }
      ]
    },
    {
      "cell_type": "code",
      "source": [
        "implied_volatilities=call_op.apply(lambda row: implied_vol(S, row[\"strike\"], time_to_maturity(expiration[3], row[\"lastTradeDate\"]), optimal_result.x[0],row[\"Heston price\"]), axis=1)\n",
        "implied_volatilities"
      ],
      "metadata": {
        "id": "6f90c7qiEH7R",
        "colab": {
          "base_uri": "https://localhost:8080/",
          "height": 459
        },
        "outputId": "92e78e21-94b7-4d97-b959-363737ea127d"
      },
      "execution_count": 22,
      "outputs": [
        {
          "output_type": "execute_result",
          "data": {
            "text/plain": [
              "0     0.708210\n",
              "1     0.774478\n",
              "2     0.766941\n",
              "3     0.707790\n",
              "4     0.703384\n",
              "        ...   \n",
              "65    2.999997\n",
              "66    2.999997\n",
              "67    2.999997\n",
              "68    2.999997\n",
              "69    2.999997\n",
              "Length: 70, dtype: float64"
            ],
            "text/html": [
              "<div>\n",
              "<style scoped>\n",
              "    .dataframe tbody tr th:only-of-type {\n",
              "        vertical-align: middle;\n",
              "    }\n",
              "\n",
              "    .dataframe tbody tr th {\n",
              "        vertical-align: top;\n",
              "    }\n",
              "\n",
              "    .dataframe thead th {\n",
              "        text-align: right;\n",
              "    }\n",
              "</style>\n",
              "<table border=\"1\" class=\"dataframe\">\n",
              "  <thead>\n",
              "    <tr style=\"text-align: right;\">\n",
              "      <th></th>\n",
              "      <th>0</th>\n",
              "    </tr>\n",
              "  </thead>\n",
              "  <tbody>\n",
              "    <tr>\n",
              "      <th>0</th>\n",
              "      <td>0.708210</td>\n",
              "    </tr>\n",
              "    <tr>\n",
              "      <th>1</th>\n",
              "      <td>0.774478</td>\n",
              "    </tr>\n",
              "    <tr>\n",
              "      <th>2</th>\n",
              "      <td>0.766941</td>\n",
              "    </tr>\n",
              "    <tr>\n",
              "      <th>3</th>\n",
              "      <td>0.707790</td>\n",
              "    </tr>\n",
              "    <tr>\n",
              "      <th>4</th>\n",
              "      <td>0.703384</td>\n",
              "    </tr>\n",
              "    <tr>\n",
              "      <th>...</th>\n",
              "      <td>...</td>\n",
              "    </tr>\n",
              "    <tr>\n",
              "      <th>65</th>\n",
              "      <td>2.999997</td>\n",
              "    </tr>\n",
              "    <tr>\n",
              "      <th>66</th>\n",
              "      <td>2.999997</td>\n",
              "    </tr>\n",
              "    <tr>\n",
              "      <th>67</th>\n",
              "      <td>2.999997</td>\n",
              "    </tr>\n",
              "    <tr>\n",
              "      <th>68</th>\n",
              "      <td>2.999997</td>\n",
              "    </tr>\n",
              "    <tr>\n",
              "      <th>69</th>\n",
              "      <td>2.999997</td>\n",
              "    </tr>\n",
              "  </tbody>\n",
              "</table>\n",
              "<p>70 rows × 1 columns</p>\n",
              "</div><br><label><b>dtype:</b> float64</label>"
            ]
          },
          "metadata": {},
          "execution_count": 22
        }
      ]
    },
    {
      "cell_type": "code",
      "source": [
        "from scipy.interpolate import griddata\n",
        "\n",
        "fig = plt.figure(figsize=(10, 7))\n",
        "ax = fig.add_subplot(111, projection='3d')\n",
        "\n",
        "# Surface plot\n",
        "ax.plot_trisurf(times, K_list, implied_volatilities, cmap='viridis', edgecolor='k')\n",
        "\n",
        "# Labels\n",
        "ax.set_xlabel(\"Time to Maturity\")\n",
        "ax.set_ylabel(\"K\")\n",
        "ax.set_zlabel(\"Implied Volatility\")\n",
        "ax.set_title(\"Implied Volatility Surface\")\n",
        "\n",
        "plt.show()\n"
      ],
      "metadata": {
        "id": "mr3WftlHHDzv",
        "colab": {
          "base_uri": "https://localhost:8080/",
          "height": 598
        },
        "outputId": "395fba0f-bc43-4171-e4ac-16a8febf286e"
      },
      "execution_count": 46,
      "outputs": [
        {
          "output_type": "display_data",
          "data": {
            "text/plain": [
              "<Figure size 1000x700 with 1 Axes>"
            ],
            "image/png": "[encoded data removed]"
          },
          "metadata": {}
        }
      ]
    }
  ]
}
